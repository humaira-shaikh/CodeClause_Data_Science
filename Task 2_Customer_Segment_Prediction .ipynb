{
 "cells": [
  {
   "cell_type": "markdown",
   "id": "50a18fdd",
   "metadata": {},
   "source": [
    "# Customer Segment Prediction"
   ]
  },
  {
   "cell_type": "markdown",
   "id": "e7a0dba7",
   "metadata": {},
   "source": [
    "# Import Libraries"
   ]
  },
  {
   "cell_type": "code",
   "execution_count": 1,
   "id": "9d39bf0e",
   "metadata": {},
   "outputs": [],
   "source": [
    "import numpy as np \n",
    "import pandas as pd  "
   ]
  },
  {
   "cell_type": "code",
   "execution_count": 2,
   "id": "122b4627",
   "metadata": {
    "execution": {
     "iopub.execute_input": "2022-10-18T14:45:25.611069Z",
     "iopub.status.busy": "2022-10-18T14:45:25.610179Z",
     "iopub.status.idle": "2022-10-18T14:45:25.616701Z",
     "shell.execute_reply": "2022-10-18T14:45:25.615682Z"
    },
    "papermill": {
     "duration": 0.019373,
     "end_time": "2022-10-18T14:45:25.619229",
     "exception": false,
     "start_time": "2022-10-18T14:45:25.599856",
     "status": "completed"
    },
    "tags": []
   },
   "outputs": [],
   "source": [
    "import matplotlib.pyplot as plt\n",
    "%matplotlib inline"
   ]
  },
  {
   "cell_type": "code",
   "execution_count": 3,
   "id": "025c438c",
   "metadata": {
    "execution": {
     "iopub.execute_input": "2022-10-18T14:45:25.639031Z",
     "iopub.status.busy": "2022-10-18T14:45:25.638440Z",
     "iopub.status.idle": "2022-10-18T14:45:25.660279Z",
     "shell.execute_reply": "2022-10-18T14:45:25.658865Z"
    },
    "papermill": {
     "duration": 0.03558,
     "end_time": "2022-10-18T14:45:25.663625",
     "exception": false,
     "start_time": "2022-10-18T14:45:25.628045",
     "status": "completed"
    },
    "tags": []
   },
   "outputs": [],
   "source": [
    "data = pd.read_csv('Mall_Customers.csv')"
   ]
  },
  {
   "cell_type": "markdown",
   "id": "28ff0501",
   "metadata": {},
   "source": [
    "# Explore Dataset"
   ]
  },
  {
   "cell_type": "code",
   "execution_count": 4,
   "id": "7edb7fd0",
   "metadata": {
    "execution": {
     "iopub.execute_input": "2022-10-18T14:45:25.682902Z",
     "iopub.status.busy": "2022-10-18T14:45:25.682375Z",
     "iopub.status.idle": "2022-10-18T14:45:25.717327Z",
     "shell.execute_reply": "2022-10-18T14:45:25.715894Z"
    },
    "papermill": {
     "duration": 0.048329,
     "end_time": "2022-10-18T14:45:25.720484",
     "exception": false,
     "start_time": "2022-10-18T14:45:25.672155",
     "status": "completed"
    },
    "tags": []
   },
   "outputs": [
    {
     "data": {
      "text/html": [
       "<div>\n",
       "<style scoped>\n",
       "    .dataframe tbody tr th:only-of-type {\n",
       "        vertical-align: middle;\n",
       "    }\n",
       "\n",
       "    .dataframe tbody tr th {\n",
       "        vertical-align: top;\n",
       "    }\n",
       "\n",
       "    .dataframe thead th {\n",
       "        text-align: right;\n",
       "    }\n",
       "</style>\n",
       "<table border=\"1\" class=\"dataframe\">\n",
       "  <thead>\n",
       "    <tr style=\"text-align: right;\">\n",
       "      <th></th>\n",
       "      <th>CustomerID</th>\n",
       "      <th>Genre</th>\n",
       "      <th>Age</th>\n",
       "      <th>Annual Income (k$)</th>\n",
       "      <th>Spending Score (1-100)</th>\n",
       "    </tr>\n",
       "  </thead>\n",
       "  <tbody>\n",
       "    <tr>\n",
       "      <th>0</th>\n",
       "      <td>1</td>\n",
       "      <td>Male</td>\n",
       "      <td>19</td>\n",
       "      <td>15</td>\n",
       "      <td>39</td>\n",
       "    </tr>\n",
       "    <tr>\n",
       "      <th>1</th>\n",
       "      <td>2</td>\n",
       "      <td>Male</td>\n",
       "      <td>21</td>\n",
       "      <td>15</td>\n",
       "      <td>81</td>\n",
       "    </tr>\n",
       "    <tr>\n",
       "      <th>2</th>\n",
       "      <td>3</td>\n",
       "      <td>Female</td>\n",
       "      <td>20</td>\n",
       "      <td>16</td>\n",
       "      <td>6</td>\n",
       "    </tr>\n",
       "    <tr>\n",
       "      <th>3</th>\n",
       "      <td>4</td>\n",
       "      <td>Female</td>\n",
       "      <td>23</td>\n",
       "      <td>16</td>\n",
       "      <td>77</td>\n",
       "    </tr>\n",
       "    <tr>\n",
       "      <th>4</th>\n",
       "      <td>5</td>\n",
       "      <td>Female</td>\n",
       "      <td>31</td>\n",
       "      <td>17</td>\n",
       "      <td>40</td>\n",
       "    </tr>\n",
       "  </tbody>\n",
       "</table>\n",
       "</div>"
      ],
      "text/plain": [
       "   CustomerID   Genre  Age  Annual Income (k$)  Spending Score (1-100)\n",
       "0           1    Male   19                  15                      39\n",
       "1           2    Male   21                  15                      81\n",
       "2           3  Female   20                  16                       6\n",
       "3           4  Female   23                  16                      77\n",
       "4           5  Female   31                  17                      40"
      ]
     },
     "execution_count": 4,
     "metadata": {},
     "output_type": "execute_result"
    }
   ],
   "source": [
    "data.head()"
   ]
  },
  {
   "cell_type": "code",
   "execution_count": 5,
   "id": "51849d01",
   "metadata": {
    "execution": {
     "iopub.execute_input": "2022-10-18T14:45:25.741143Z",
     "iopub.status.busy": "2022-10-18T14:45:25.739746Z",
     "iopub.status.idle": "2022-10-18T14:45:25.749328Z",
     "shell.execute_reply": "2022-10-18T14:45:25.747682Z"
    },
    "papermill": {
     "duration": 0.022679,
     "end_time": "2022-10-18T14:45:25.752083",
     "exception": false,
     "start_time": "2022-10-18T14:45:25.729404",
     "status": "completed"
    },
    "tags": []
   },
   "outputs": [
    {
     "data": {
      "text/plain": [
       "(200, 5)"
      ]
     },
     "execution_count": 5,
     "metadata": {},
     "output_type": "execute_result"
    }
   ],
   "source": [
    "data.shape"
   ]
  },
  {
   "cell_type": "code",
   "execution_count": 6,
   "id": "7d3473c8",
   "metadata": {
    "execution": {
     "iopub.execute_input": "2022-10-18T14:45:25.773881Z",
     "iopub.status.busy": "2022-10-18T14:45:25.773333Z",
     "iopub.status.idle": "2022-10-18T14:45:25.790798Z",
     "shell.execute_reply": "2022-10-18T14:45:25.789374Z"
    },
    "papermill": {
     "duration": 0.030849,
     "end_time": "2022-10-18T14:45:25.793701",
     "exception": false,
     "start_time": "2022-10-18T14:45:25.762852",
     "status": "completed"
    },
    "tags": []
   },
   "outputs": [
    {
     "data": {
      "text/html": [
       "<div>\n",
       "<style scoped>\n",
       "    .dataframe tbody tr th:only-of-type {\n",
       "        vertical-align: middle;\n",
       "    }\n",
       "\n",
       "    .dataframe tbody tr th {\n",
       "        vertical-align: top;\n",
       "    }\n",
       "\n",
       "    .dataframe thead th {\n",
       "        text-align: right;\n",
       "    }\n",
       "</style>\n",
       "<table border=\"1\" class=\"dataframe\">\n",
       "  <thead>\n",
       "    <tr style=\"text-align: right;\">\n",
       "      <th></th>\n",
       "      <th>Annual Income (k$)</th>\n",
       "      <th>Spending Score (1-100)</th>\n",
       "    </tr>\n",
       "  </thead>\n",
       "  <tbody>\n",
       "    <tr>\n",
       "      <th>0</th>\n",
       "      <td>15</td>\n",
       "      <td>39</td>\n",
       "    </tr>\n",
       "    <tr>\n",
       "      <th>1</th>\n",
       "      <td>15</td>\n",
       "      <td>81</td>\n",
       "    </tr>\n",
       "    <tr>\n",
       "      <th>2</th>\n",
       "      <td>16</td>\n",
       "      <td>6</td>\n",
       "    </tr>\n",
       "    <tr>\n",
       "      <th>3</th>\n",
       "      <td>16</td>\n",
       "      <td>77</td>\n",
       "    </tr>\n",
       "    <tr>\n",
       "      <th>4</th>\n",
       "      <td>17</td>\n",
       "      <td>40</td>\n",
       "    </tr>\n",
       "    <tr>\n",
       "      <th>...</th>\n",
       "      <td>...</td>\n",
       "      <td>...</td>\n",
       "    </tr>\n",
       "    <tr>\n",
       "      <th>195</th>\n",
       "      <td>120</td>\n",
       "      <td>79</td>\n",
       "    </tr>\n",
       "    <tr>\n",
       "      <th>196</th>\n",
       "      <td>126</td>\n",
       "      <td>28</td>\n",
       "    </tr>\n",
       "    <tr>\n",
       "      <th>197</th>\n",
       "      <td>126</td>\n",
       "      <td>74</td>\n",
       "    </tr>\n",
       "    <tr>\n",
       "      <th>198</th>\n",
       "      <td>137</td>\n",
       "      <td>18</td>\n",
       "    </tr>\n",
       "    <tr>\n",
       "      <th>199</th>\n",
       "      <td>137</td>\n",
       "      <td>83</td>\n",
       "    </tr>\n",
       "  </tbody>\n",
       "</table>\n",
       "<p>200 rows × 2 columns</p>\n",
       "</div>"
      ],
      "text/plain": [
       "     Annual Income (k$)  Spending Score (1-100)\n",
       "0                    15                      39\n",
       "1                    15                      81\n",
       "2                    16                       6\n",
       "3                    16                      77\n",
       "4                    17                      40\n",
       "..                  ...                     ...\n",
       "195                 120                      79\n",
       "196                 126                      28\n",
       "197                 126                      74\n",
       "198                 137                      18\n",
       "199                 137                      83\n",
       "\n",
       "[200 rows x 2 columns]"
      ]
     },
     "execution_count": 6,
     "metadata": {},
     "output_type": "execute_result"
    }
   ],
   "source": [
    "x = data.iloc[:, 3:]\n",
    "x"
   ]
  },
  {
   "cell_type": "code",
   "execution_count": 7,
   "id": "2289553f",
   "metadata": {
    "execution": {
     "iopub.execute_input": "2022-10-18T14:45:25.814894Z",
     "iopub.status.busy": "2022-10-18T14:45:25.813331Z",
     "iopub.status.idle": "2022-10-18T14:45:25.820882Z",
     "shell.execute_reply": "2022-10-18T14:45:25.819128Z"
    },
    "papermill": {
     "duration": 0.021044,
     "end_time": "2022-10-18T14:45:25.823807",
     "exception": false,
     "start_time": "2022-10-18T14:45:25.802763",
     "status": "completed"
    },
    "tags": []
   },
   "outputs": [],
   "source": [
    "x1 = x.copy(deep=True)"
   ]
  },
  {
   "cell_type": "code",
   "execution_count": 8,
   "id": "2ede840a",
   "metadata": {
    "execution": {
     "iopub.execute_input": "2022-10-18T14:45:25.845578Z",
     "iopub.status.busy": "2022-10-18T14:45:25.844889Z",
     "iopub.status.idle": "2022-10-18T14:45:27.468184Z",
     "shell.execute_reply": "2022-10-18T14:45:27.466593Z"
    },
    "papermill": {
     "duration": 1.637189,
     "end_time": "2022-10-18T14:45:27.471556",
     "exception": false,
     "start_time": "2022-10-18T14:45:25.834367",
     "status": "completed"
    },
    "tags": []
   },
   "outputs": [],
   "source": [
    "from sklearn.cluster import KMeans"
   ]
  },
  {
   "cell_type": "code",
   "execution_count": 9,
   "id": "3cddc567",
   "metadata": {
    "execution": {
     "iopub.execute_input": "2022-10-18T14:45:27.491716Z",
     "iopub.status.busy": "2022-10-18T14:45:27.491191Z",
     "iopub.status.idle": "2022-10-18T14:45:28.167431Z",
     "shell.execute_reply": "2022-10-18T14:45:28.165957Z"
    },
    "papermill": {
     "duration": 0.690333,
     "end_time": "2022-10-18T14:45:28.170927",
     "exception": false,
     "start_time": "2022-10-18T14:45:27.480594",
     "status": "completed"
    },
    "tags": []
   },
   "outputs": [],
   "source": [
    "wcss = []\n",
    "for i in range(1,15):\n",
    "    kmean = KMeans(n_clusters=i, init='k-means++', random_state=30)\n",
    "    kmean.fit(x)\n",
    "    wcss.append(kmean.inertia_)"
   ]
  },
  {
   "cell_type": "code",
   "execution_count": 10,
   "id": "ca3ef949",
   "metadata": {
    "execution": {
     "iopub.execute_input": "2022-10-18T14:45:28.193693Z",
     "iopub.status.busy": "2022-10-18T14:45:28.193166Z",
     "iopub.status.idle": "2022-10-18T14:45:28.202828Z",
     "shell.execute_reply": "2022-10-18T14:45:28.201379Z"
    },
    "papermill": {
     "duration": 0.023286,
     "end_time": "2022-10-18T14:45:28.205482",
     "exception": false,
     "start_time": "2022-10-18T14:45:28.182196",
     "status": "completed"
    },
    "tags": []
   },
   "outputs": [
    {
     "data": {
      "text/plain": [
       "[269981.28,\n",
       " 181363.59595959596,\n",
       " 106348.37306211119,\n",
       " 73679.78903948834,\n",
       " 44448.45544793371,\n",
       " 37265.86520484347,\n",
       " 30273.39431207004,\n",
       " 25311.63315295815,\n",
       " 21850.165282585633,\n",
       " 19641.456216651564,\n",
       " 17887.084456628643,\n",
       " 15990.444512350394,\n",
       " 14666.175194043306,\n",
       " 12797.180630643867]"
      ]
     },
     "execution_count": 10,
     "metadata": {},
     "output_type": "execute_result"
    }
   ],
   "source": [
    "wcss"
   ]
  },
  {
   "cell_type": "code",
   "execution_count": 11,
   "id": "8289c883",
   "metadata": {
    "execution": {
     "iopub.execute_input": "2022-10-18T14:45:28.226564Z",
     "iopub.status.busy": "2022-10-18T14:45:28.225127Z",
     "iopub.status.idle": "2022-10-18T14:45:28.493103Z",
     "shell.execute_reply": "2022-10-18T14:45:28.492042Z"
    },
    "papermill": {
     "duration": 0.281494,
     "end_time": "2022-10-18T14:45:28.495999",
     "exception": false,
     "start_time": "2022-10-18T14:45:28.214505",
     "status": "completed"
    },
    "tags": []
   },
   "outputs": [
    {
     "data": {
      "text/plain": [
       "[<matplotlib.lines.Line2D at 0x7fbf5ee0ff90>]"
      ]
     },
     "execution_count": 11,
     "metadata": {},
     "output_type": "execute_result"
    },
    {
     "data": {
      "image/png": "[encoded data removed]",
      "text/plain": [
       "<Figure size 432x288 with 1 Axes>"
      ]
     },
     "metadata": {
      "needs_background": "light"
     },
     "output_type": "display_data"
    }
   ],
   "source": [
    "plt.plot(range(1,15),wcss)"
   ]
  },
  {
   "cell_type": "code",
   "execution_count": 12,
   "id": "96505b2f",
   "metadata": {
    "execution": {
     "iopub.execute_input": "2022-10-18T14:45:28.518004Z",
     "iopub.status.busy": "2022-10-18T14:45:28.517110Z",
     "iopub.status.idle": "2022-10-18T14:45:28.552832Z",
     "shell.execute_reply": "2022-10-18T14:45:28.551558Z"
    },
    "papermill": {
     "duration": 0.049962,
     "end_time": "2022-10-18T14:45:28.555613",
     "exception": false,
     "start_time": "2022-10-18T14:45:28.505651",
     "status": "completed"
    },
    "tags": []
   },
   "outputs": [
    {
     "data": {
      "text/plain": [
       "array([4, 0, 4, 0, 4, 0, 4, 0, 4, 0, 4, 0, 4, 0, 4, 0, 4, 0, 4, 0, 4, 0,\n",
       "       4, 0, 4, 0, 4, 0, 4, 0, 4, 0, 4, 0, 4, 0, 4, 0, 4, 0, 4, 0, 4, 1,\n",
       "       4, 0, 1, 1, 1, 1, 1, 1, 1, 1, 1, 1, 1, 1, 1, 1, 1, 1, 1, 1, 1, 1,\n",
       "       1, 1, 1, 1, 1, 1, 1, 1, 1, 1, 1, 1, 1, 1, 1, 1, 1, 1, 1, 1, 1, 1,\n",
       "       1, 1, 1, 1, 1, 1, 1, 1, 1, 1, 1, 1, 1, 1, 1, 1, 1, 1, 1, 1, 1, 1,\n",
       "       1, 1, 1, 1, 1, 1, 1, 1, 1, 1, 1, 1, 1, 3, 2, 3, 1, 3, 2, 3, 2, 3,\n",
       "       1, 3, 2, 3, 2, 3, 2, 3, 2, 3, 1, 3, 2, 3, 2, 3, 2, 3, 2, 3, 2, 3,\n",
       "       2, 3, 2, 3, 2, 3, 2, 3, 2, 3, 2, 3, 2, 3, 2, 3, 2, 3, 2, 3, 2, 3,\n",
       "       2, 3, 2, 3, 2, 3, 2, 3, 2, 3, 2, 3, 2, 3, 2, 3, 2, 3, 2, 3, 2, 3,\n",
       "       2, 3], dtype=int32)"
      ]
     },
     "execution_count": 12,
     "metadata": {},
     "output_type": "execute_result"
    }
   ],
   "source": [
    "kmean1 = KMeans(n_clusters=5, init='k-means++',random_state=30)\n",
    "kmean1.fit_predict(x)"
   ]
  },
  {
   "cell_type": "code",
   "execution_count": 13,
   "id": "f1b64b13",
   "metadata": {
    "execution": {
     "iopub.execute_input": "2022-10-18T14:45:28.578406Z",
     "iopub.status.busy": "2022-10-18T14:45:28.577868Z",
     "iopub.status.idle": "2022-10-18T14:45:28.617073Z",
     "shell.execute_reply": "2022-10-18T14:45:28.615899Z"
    },
    "papermill": {
     "duration": 0.05353,
     "end_time": "2022-10-18T14:45:28.620170",
     "exception": false,
     "start_time": "2022-10-18T14:45:28.566640",
     "status": "completed"
    },
    "tags": []
   },
   "outputs": [],
   "source": [
    "x['cluster number'] = kmean1.fit_predict(x)"
   ]
  },
  {
   "cell_type": "code",
   "execution_count": 14,
   "id": "e4703663",
   "metadata": {
    "execution": {
     "iopub.execute_input": "2022-10-18T14:45:28.642940Z",
     "iopub.status.busy": "2022-10-18T14:45:28.642439Z",
     "iopub.status.idle": "2022-10-18T14:45:28.659617Z",
     "shell.execute_reply": "2022-10-18T14:45:28.658289Z"
    },
    "papermill": {
     "duration": 0.031153,
     "end_time": "2022-10-18T14:45:28.662398",
     "exception": false,
     "start_time": "2022-10-18T14:45:28.631245",
     "status": "completed"
    },
    "tags": []
   },
   "outputs": [
    {
     "data": {
      "text/html": [
       "<div>\n",
       "<style scoped>\n",
       "    .dataframe tbody tr th:only-of-type {\n",
       "        vertical-align: middle;\n",
       "    }\n",
       "\n",
       "    .dataframe tbody tr th {\n",
       "        vertical-align: top;\n",
       "    }\n",
       "\n",
       "    .dataframe thead th {\n",
       "        text-align: right;\n",
       "    }\n",
       "</style>\n",
       "<table border=\"1\" class=\"dataframe\">\n",
       "  <thead>\n",
       "    <tr style=\"text-align: right;\">\n",
       "      <th></th>\n",
       "      <th>Annual Income (k$)</th>\n",
       "      <th>Spending Score (1-100)</th>\n",
       "      <th>cluster number</th>\n",
       "    </tr>\n",
       "  </thead>\n",
       "  <tbody>\n",
       "    <tr>\n",
       "      <th>0</th>\n",
       "      <td>15</td>\n",
       "      <td>39</td>\n",
       "      <td>4</td>\n",
       "    </tr>\n",
       "    <tr>\n",
       "      <th>1</th>\n",
       "      <td>15</td>\n",
       "      <td>81</td>\n",
       "      <td>0</td>\n",
       "    </tr>\n",
       "    <tr>\n",
       "      <th>2</th>\n",
       "      <td>16</td>\n",
       "      <td>6</td>\n",
       "      <td>4</td>\n",
       "    </tr>\n",
       "    <tr>\n",
       "      <th>3</th>\n",
       "      <td>16</td>\n",
       "      <td>77</td>\n",
       "      <td>0</td>\n",
       "    </tr>\n",
       "    <tr>\n",
       "      <th>4</th>\n",
       "      <td>17</td>\n",
       "      <td>40</td>\n",
       "      <td>4</td>\n",
       "    </tr>\n",
       "    <tr>\n",
       "      <th>...</th>\n",
       "      <td>...</td>\n",
       "      <td>...</td>\n",
       "      <td>...</td>\n",
       "    </tr>\n",
       "    <tr>\n",
       "      <th>195</th>\n",
       "      <td>120</td>\n",
       "      <td>79</td>\n",
       "      <td>3</td>\n",
       "    </tr>\n",
       "    <tr>\n",
       "      <th>196</th>\n",
       "      <td>126</td>\n",
       "      <td>28</td>\n",
       "      <td>2</td>\n",
       "    </tr>\n",
       "    <tr>\n",
       "      <th>197</th>\n",
       "      <td>126</td>\n",
       "      <td>74</td>\n",
       "      <td>3</td>\n",
       "    </tr>\n",
       "    <tr>\n",
       "      <th>198</th>\n",
       "      <td>137</td>\n",
       "      <td>18</td>\n",
       "      <td>2</td>\n",
       "    </tr>\n",
       "    <tr>\n",
       "      <th>199</th>\n",
       "      <td>137</td>\n",
       "      <td>83</td>\n",
       "      <td>3</td>\n",
       "    </tr>\n",
       "  </tbody>\n",
       "</table>\n",
       "<p>200 rows × 3 columns</p>\n",
       "</div>"
      ],
      "text/plain": [
       "     Annual Income (k$)  Spending Score (1-100)  cluster number\n",
       "0                    15                      39               4\n",
       "1                    15                      81               0\n",
       "2                    16                       6               4\n",
       "3                    16                      77               0\n",
       "4                    17                      40               4\n",
       "..                  ...                     ...             ...\n",
       "195                 120                      79               3\n",
       "196                 126                      28               2\n",
       "197                 126                      74               3\n",
       "198                 137                      18               2\n",
       "199                 137                      83               3\n",
       "\n",
       "[200 rows x 3 columns]"
      ]
     },
     "execution_count": 14,
     "metadata": {},
     "output_type": "execute_result"
    }
   ],
   "source": [
    "x"
   ]
  },
  {
   "cell_type": "code",
   "execution_count": 15,
   "id": "9d0780ed",
   "metadata": {
    "execution": {
     "iopub.execute_input": "2022-10-18T14:45:28.685164Z",
     "iopub.status.busy": "2022-10-18T14:45:28.684180Z",
     "iopub.status.idle": "2022-10-18T14:45:28.701410Z",
     "shell.execute_reply": "2022-10-18T14:45:28.700082Z"
    },
    "papermill": {
     "duration": 0.032128,
     "end_time": "2022-10-18T14:45:28.704331",
     "exception": false,
     "start_time": "2022-10-18T14:45:28.672203",
     "status": "completed"
    },
    "tags": []
   },
   "outputs": [
    {
     "data": {
      "text/html": [
       "<div>\n",
       "<style scoped>\n",
       "    .dataframe tbody tr th:only-of-type {\n",
       "        vertical-align: middle;\n",
       "    }\n",
       "\n",
       "    .dataframe tbody tr th {\n",
       "        vertical-align: top;\n",
       "    }\n",
       "\n",
       "    .dataframe thead th {\n",
       "        text-align: right;\n",
       "    }\n",
       "</style>\n",
       "<table border=\"1\" class=\"dataframe\">\n",
       "  <thead>\n",
       "    <tr style=\"text-align: right;\">\n",
       "      <th></th>\n",
       "      <th>Annual Income (k$)</th>\n",
       "      <th>Spending Score (1-100)</th>\n",
       "      <th>cluster number</th>\n",
       "    </tr>\n",
       "  </thead>\n",
       "  <tbody>\n",
       "    <tr>\n",
       "      <th>0</th>\n",
       "      <td>15</td>\n",
       "      <td>39</td>\n",
       "      <td>4</td>\n",
       "    </tr>\n",
       "    <tr>\n",
       "      <th>2</th>\n",
       "      <td>16</td>\n",
       "      <td>6</td>\n",
       "      <td>4</td>\n",
       "    </tr>\n",
       "    <tr>\n",
       "      <th>4</th>\n",
       "      <td>17</td>\n",
       "      <td>40</td>\n",
       "      <td>4</td>\n",
       "    </tr>\n",
       "    <tr>\n",
       "      <th>6</th>\n",
       "      <td>18</td>\n",
       "      <td>6</td>\n",
       "      <td>4</td>\n",
       "    </tr>\n",
       "    <tr>\n",
       "      <th>8</th>\n",
       "      <td>19</td>\n",
       "      <td>3</td>\n",
       "      <td>4</td>\n",
       "    </tr>\n",
       "    <tr>\n",
       "      <th>10</th>\n",
       "      <td>19</td>\n",
       "      <td>14</td>\n",
       "      <td>4</td>\n",
       "    </tr>\n",
       "    <tr>\n",
       "      <th>12</th>\n",
       "      <td>20</td>\n",
       "      <td>15</td>\n",
       "      <td>4</td>\n",
       "    </tr>\n",
       "    <tr>\n",
       "      <th>14</th>\n",
       "      <td>20</td>\n",
       "      <td>13</td>\n",
       "      <td>4</td>\n",
       "    </tr>\n",
       "    <tr>\n",
       "      <th>16</th>\n",
       "      <td>21</td>\n",
       "      <td>35</td>\n",
       "      <td>4</td>\n",
       "    </tr>\n",
       "    <tr>\n",
       "      <th>18</th>\n",
       "      <td>23</td>\n",
       "      <td>29</td>\n",
       "      <td>4</td>\n",
       "    </tr>\n",
       "    <tr>\n",
       "      <th>20</th>\n",
       "      <td>24</td>\n",
       "      <td>35</td>\n",
       "      <td>4</td>\n",
       "    </tr>\n",
       "    <tr>\n",
       "      <th>22</th>\n",
       "      <td>25</td>\n",
       "      <td>5</td>\n",
       "      <td>4</td>\n",
       "    </tr>\n",
       "    <tr>\n",
       "      <th>24</th>\n",
       "      <td>28</td>\n",
       "      <td>14</td>\n",
       "      <td>4</td>\n",
       "    </tr>\n",
       "    <tr>\n",
       "      <th>26</th>\n",
       "      <td>28</td>\n",
       "      <td>32</td>\n",
       "      <td>4</td>\n",
       "    </tr>\n",
       "    <tr>\n",
       "      <th>28</th>\n",
       "      <td>29</td>\n",
       "      <td>31</td>\n",
       "      <td>4</td>\n",
       "    </tr>\n",
       "    <tr>\n",
       "      <th>30</th>\n",
       "      <td>30</td>\n",
       "      <td>4</td>\n",
       "      <td>4</td>\n",
       "    </tr>\n",
       "    <tr>\n",
       "      <th>32</th>\n",
       "      <td>33</td>\n",
       "      <td>4</td>\n",
       "      <td>4</td>\n",
       "    </tr>\n",
       "    <tr>\n",
       "      <th>34</th>\n",
       "      <td>33</td>\n",
       "      <td>14</td>\n",
       "      <td>4</td>\n",
       "    </tr>\n",
       "    <tr>\n",
       "      <th>36</th>\n",
       "      <td>34</td>\n",
       "      <td>17</td>\n",
       "      <td>4</td>\n",
       "    </tr>\n",
       "    <tr>\n",
       "      <th>38</th>\n",
       "      <td>37</td>\n",
       "      <td>26</td>\n",
       "      <td>4</td>\n",
       "    </tr>\n",
       "    <tr>\n",
       "      <th>40</th>\n",
       "      <td>38</td>\n",
       "      <td>35</td>\n",
       "      <td>4</td>\n",
       "    </tr>\n",
       "    <tr>\n",
       "      <th>42</th>\n",
       "      <td>39</td>\n",
       "      <td>36</td>\n",
       "      <td>4</td>\n",
       "    </tr>\n",
       "    <tr>\n",
       "      <th>44</th>\n",
       "      <td>39</td>\n",
       "      <td>28</td>\n",
       "      <td>4</td>\n",
       "    </tr>\n",
       "  </tbody>\n",
       "</table>\n",
       "</div>"
      ],
      "text/plain": [
       "    Annual Income (k$)  Spending Score (1-100)  cluster number\n",
       "0                   15                      39               4\n",
       "2                   16                       6               4\n",
       "4                   17                      40               4\n",
       "6                   18                       6               4\n",
       "8                   19                       3               4\n",
       "10                  19                      14               4\n",
       "12                  20                      15               4\n",
       "14                  20                      13               4\n",
       "16                  21                      35               4\n",
       "18                  23                      29               4\n",
       "20                  24                      35               4\n",
       "22                  25                       5               4\n",
       "24                  28                      14               4\n",
       "26                  28                      32               4\n",
       "28                  29                      31               4\n",
       "30                  30                       4               4\n",
       "32                  33                       4               4\n",
       "34                  33                      14               4\n",
       "36                  34                      17               4\n",
       "38                  37                      26               4\n",
       "40                  38                      35               4\n",
       "42                  39                      36               4\n",
       "44                  39                      28               4"
      ]
     },
     "execution_count": 15,
     "metadata": {},
     "output_type": "execute_result"
    }
   ],
   "source": [
    "x[x['cluster number'] == 4]"
   ]
  },
  {
   "cell_type": "code",
   "execution_count": 16,
   "id": "17b17c67",
   "metadata": {
    "execution": {
     "iopub.execute_input": "2022-10-18T14:45:28.728046Z",
     "iopub.status.busy": "2022-10-18T14:45:28.727214Z",
     "iopub.status.idle": "2022-10-18T14:45:28.743443Z",
     "shell.execute_reply": "2022-10-18T14:45:28.742018Z"
    },
    "papermill": {
     "duration": 0.031607,
     "end_time": "2022-10-18T14:45:28.746551",
     "exception": false,
     "start_time": "2022-10-18T14:45:28.714944",
     "status": "completed"
    },
    "tags": []
   },
   "outputs": [
    {
     "data": {
      "text/html": [
       "<div>\n",
       "<style scoped>\n",
       "    .dataframe tbody tr th:only-of-type {\n",
       "        vertical-align: middle;\n",
       "    }\n",
       "\n",
       "    .dataframe tbody tr th {\n",
       "        vertical-align: top;\n",
       "    }\n",
       "\n",
       "    .dataframe thead th {\n",
       "        text-align: right;\n",
       "    }\n",
       "</style>\n",
       "<table border=\"1\" class=\"dataframe\">\n",
       "  <thead>\n",
       "    <tr style=\"text-align: right;\">\n",
       "      <th></th>\n",
       "      <th>Annual Income (k$)</th>\n",
       "      <th>Spending Score (1-100)</th>\n",
       "      <th>cluster number</th>\n",
       "    </tr>\n",
       "  </thead>\n",
       "  <tbody>\n",
       "    <tr>\n",
       "      <th>123</th>\n",
       "      <td>69</td>\n",
       "      <td>91</td>\n",
       "      <td>3</td>\n",
       "    </tr>\n",
       "    <tr>\n",
       "      <th>125</th>\n",
       "      <td>70</td>\n",
       "      <td>77</td>\n",
       "      <td>3</td>\n",
       "    </tr>\n",
       "    <tr>\n",
       "      <th>127</th>\n",
       "      <td>71</td>\n",
       "      <td>95</td>\n",
       "      <td>3</td>\n",
       "    </tr>\n",
       "    <tr>\n",
       "      <th>129</th>\n",
       "      <td>71</td>\n",
       "      <td>75</td>\n",
       "      <td>3</td>\n",
       "    </tr>\n",
       "    <tr>\n",
       "      <th>131</th>\n",
       "      <td>71</td>\n",
       "      <td>75</td>\n",
       "      <td>3</td>\n",
       "    </tr>\n",
       "    <tr>\n",
       "      <th>133</th>\n",
       "      <td>72</td>\n",
       "      <td>71</td>\n",
       "      <td>3</td>\n",
       "    </tr>\n",
       "    <tr>\n",
       "      <th>135</th>\n",
       "      <td>73</td>\n",
       "      <td>88</td>\n",
       "      <td>3</td>\n",
       "    </tr>\n",
       "    <tr>\n",
       "      <th>137</th>\n",
       "      <td>73</td>\n",
       "      <td>73</td>\n",
       "      <td>3</td>\n",
       "    </tr>\n",
       "    <tr>\n",
       "      <th>139</th>\n",
       "      <td>74</td>\n",
       "      <td>72</td>\n",
       "      <td>3</td>\n",
       "    </tr>\n",
       "    <tr>\n",
       "      <th>141</th>\n",
       "      <td>75</td>\n",
       "      <td>93</td>\n",
       "      <td>3</td>\n",
       "    </tr>\n",
       "    <tr>\n",
       "      <th>143</th>\n",
       "      <td>76</td>\n",
       "      <td>87</td>\n",
       "      <td>3</td>\n",
       "    </tr>\n",
       "    <tr>\n",
       "      <th>145</th>\n",
       "      <td>77</td>\n",
       "      <td>97</td>\n",
       "      <td>3</td>\n",
       "    </tr>\n",
       "    <tr>\n",
       "      <th>147</th>\n",
       "      <td>77</td>\n",
       "      <td>74</td>\n",
       "      <td>3</td>\n",
       "    </tr>\n",
       "    <tr>\n",
       "      <th>149</th>\n",
       "      <td>78</td>\n",
       "      <td>90</td>\n",
       "      <td>3</td>\n",
       "    </tr>\n",
       "    <tr>\n",
       "      <th>151</th>\n",
       "      <td>78</td>\n",
       "      <td>88</td>\n",
       "      <td>3</td>\n",
       "    </tr>\n",
       "    <tr>\n",
       "      <th>153</th>\n",
       "      <td>78</td>\n",
       "      <td>76</td>\n",
       "      <td>3</td>\n",
       "    </tr>\n",
       "    <tr>\n",
       "      <th>155</th>\n",
       "      <td>78</td>\n",
       "      <td>89</td>\n",
       "      <td>3</td>\n",
       "    </tr>\n",
       "    <tr>\n",
       "      <th>157</th>\n",
       "      <td>78</td>\n",
       "      <td>78</td>\n",
       "      <td>3</td>\n",
       "    </tr>\n",
       "    <tr>\n",
       "      <th>159</th>\n",
       "      <td>78</td>\n",
       "      <td>73</td>\n",
       "      <td>3</td>\n",
       "    </tr>\n",
       "    <tr>\n",
       "      <th>161</th>\n",
       "      <td>79</td>\n",
       "      <td>83</td>\n",
       "      <td>3</td>\n",
       "    </tr>\n",
       "    <tr>\n",
       "      <th>163</th>\n",
       "      <td>81</td>\n",
       "      <td>93</td>\n",
       "      <td>3</td>\n",
       "    </tr>\n",
       "    <tr>\n",
       "      <th>165</th>\n",
       "      <td>85</td>\n",
       "      <td>75</td>\n",
       "      <td>3</td>\n",
       "    </tr>\n",
       "    <tr>\n",
       "      <th>167</th>\n",
       "      <td>86</td>\n",
       "      <td>95</td>\n",
       "      <td>3</td>\n",
       "    </tr>\n",
       "    <tr>\n",
       "      <th>169</th>\n",
       "      <td>87</td>\n",
       "      <td>63</td>\n",
       "      <td>3</td>\n",
       "    </tr>\n",
       "    <tr>\n",
       "      <th>171</th>\n",
       "      <td>87</td>\n",
       "      <td>75</td>\n",
       "      <td>3</td>\n",
       "    </tr>\n",
       "    <tr>\n",
       "      <th>173</th>\n",
       "      <td>87</td>\n",
       "      <td>92</td>\n",
       "      <td>3</td>\n",
       "    </tr>\n",
       "    <tr>\n",
       "      <th>175</th>\n",
       "      <td>88</td>\n",
       "      <td>86</td>\n",
       "      <td>3</td>\n",
       "    </tr>\n",
       "    <tr>\n",
       "      <th>177</th>\n",
       "      <td>88</td>\n",
       "      <td>69</td>\n",
       "      <td>3</td>\n",
       "    </tr>\n",
       "    <tr>\n",
       "      <th>179</th>\n",
       "      <td>93</td>\n",
       "      <td>90</td>\n",
       "      <td>3</td>\n",
       "    </tr>\n",
       "    <tr>\n",
       "      <th>181</th>\n",
       "      <td>97</td>\n",
       "      <td>86</td>\n",
       "      <td>3</td>\n",
       "    </tr>\n",
       "    <tr>\n",
       "      <th>183</th>\n",
       "      <td>98</td>\n",
       "      <td>88</td>\n",
       "      <td>3</td>\n",
       "    </tr>\n",
       "    <tr>\n",
       "      <th>185</th>\n",
       "      <td>99</td>\n",
       "      <td>97</td>\n",
       "      <td>3</td>\n",
       "    </tr>\n",
       "    <tr>\n",
       "      <th>187</th>\n",
       "      <td>101</td>\n",
       "      <td>68</td>\n",
       "      <td>3</td>\n",
       "    </tr>\n",
       "    <tr>\n",
       "      <th>189</th>\n",
       "      <td>103</td>\n",
       "      <td>85</td>\n",
       "      <td>3</td>\n",
       "    </tr>\n",
       "    <tr>\n",
       "      <th>191</th>\n",
       "      <td>103</td>\n",
       "      <td>69</td>\n",
       "      <td>3</td>\n",
       "    </tr>\n",
       "    <tr>\n",
       "      <th>193</th>\n",
       "      <td>113</td>\n",
       "      <td>91</td>\n",
       "      <td>3</td>\n",
       "    </tr>\n",
       "    <tr>\n",
       "      <th>195</th>\n",
       "      <td>120</td>\n",
       "      <td>79</td>\n",
       "      <td>3</td>\n",
       "    </tr>\n",
       "    <tr>\n",
       "      <th>197</th>\n",
       "      <td>126</td>\n",
       "      <td>74</td>\n",
       "      <td>3</td>\n",
       "    </tr>\n",
       "    <tr>\n",
       "      <th>199</th>\n",
       "      <td>137</td>\n",
       "      <td>83</td>\n",
       "      <td>3</td>\n",
       "    </tr>\n",
       "  </tbody>\n",
       "</table>\n",
       "</div>"
      ],
      "text/plain": [
       "     Annual Income (k$)  Spending Score (1-100)  cluster number\n",
       "123                  69                      91               3\n",
       "125                  70                      77               3\n",
       "127                  71                      95               3\n",
       "129                  71                      75               3\n",
       "131                  71                      75               3\n",
       "133                  72                      71               3\n",
       "135                  73                      88               3\n",
       "137                  73                      73               3\n",
       "139                  74                      72               3\n",
       "141                  75                      93               3\n",
       "143                  76                      87               3\n",
       "145                  77                      97               3\n",
       "147                  77                      74               3\n",
       "149                  78                      90               3\n",
       "151                  78                      88               3\n",
       "153                  78                      76               3\n",
       "155                  78                      89               3\n",
       "157                  78                      78               3\n",
       "159                  78                      73               3\n",
       "161                  79                      83               3\n",
       "163                  81                      93               3\n",
       "165                  85                      75               3\n",
       "167                  86                      95               3\n",
       "169                  87                      63               3\n",
       "171                  87                      75               3\n",
       "173                  87                      92               3\n",
       "175                  88                      86               3\n",
       "177                  88                      69               3\n",
       "179                  93                      90               3\n",
       "181                  97                      86               3\n",
       "183                  98                      88               3\n",
       "185                  99                      97               3\n",
       "187                 101                      68               3\n",
       "189                 103                      85               3\n",
       "191                 103                      69               3\n",
       "193                 113                      91               3\n",
       "195                 120                      79               3\n",
       "197                 126                      74               3\n",
       "199                 137                      83               3"
      ]
     },
     "execution_count": 16,
     "metadata": {},
     "output_type": "execute_result"
    }
   ],
   "source": [
    "x[x['cluster number'] == 3]"
   ]
  },
  {
   "cell_type": "code",
   "execution_count": 17,
   "id": "d3945f47",
   "metadata": {
    "execution": {
     "iopub.execute_input": "2022-10-18T14:45:28.770762Z",
     "iopub.status.busy": "2022-10-18T14:45:28.770274Z",
     "iopub.status.idle": "2022-10-18T14:45:28.784321Z",
     "shell.execute_reply": "2022-10-18T14:45:28.782720Z"
    },
    "papermill": {
     "duration": 0.029899,
     "end_time": "2022-10-18T14:45:28.787229",
     "exception": false,
     "start_time": "2022-10-18T14:45:28.757330",
     "status": "completed"
    },
    "tags": []
   },
   "outputs": [
    {
     "data": {
      "text/html": [
       "<div>\n",
       "<style scoped>\n",
       "    .dataframe tbody tr th:only-of-type {\n",
       "        vertical-align: middle;\n",
       "    }\n",
       "\n",
       "    .dataframe tbody tr th {\n",
       "        vertical-align: top;\n",
       "    }\n",
       "\n",
       "    .dataframe thead th {\n",
       "        text-align: right;\n",
       "    }\n",
       "</style>\n",
       "<table border=\"1\" class=\"dataframe\">\n",
       "  <thead>\n",
       "    <tr style=\"text-align: right;\">\n",
       "      <th></th>\n",
       "      <th>Annual Income (k$)</th>\n",
       "      <th>Spending Score (1-100)</th>\n",
       "      <th>cluster number</th>\n",
       "    </tr>\n",
       "  </thead>\n",
       "  <tbody>\n",
       "    <tr>\n",
       "      <th>1</th>\n",
       "      <td>15</td>\n",
       "      <td>81</td>\n",
       "      <td>0</td>\n",
       "    </tr>\n",
       "    <tr>\n",
       "      <th>3</th>\n",
       "      <td>16</td>\n",
       "      <td>77</td>\n",
       "      <td>0</td>\n",
       "    </tr>\n",
       "    <tr>\n",
       "      <th>5</th>\n",
       "      <td>17</td>\n",
       "      <td>76</td>\n",
       "      <td>0</td>\n",
       "    </tr>\n",
       "    <tr>\n",
       "      <th>7</th>\n",
       "      <td>18</td>\n",
       "      <td>94</td>\n",
       "      <td>0</td>\n",
       "    </tr>\n",
       "    <tr>\n",
       "      <th>9</th>\n",
       "      <td>19</td>\n",
       "      <td>72</td>\n",
       "      <td>0</td>\n",
       "    </tr>\n",
       "    <tr>\n",
       "      <th>11</th>\n",
       "      <td>19</td>\n",
       "      <td>99</td>\n",
       "      <td>0</td>\n",
       "    </tr>\n",
       "    <tr>\n",
       "      <th>13</th>\n",
       "      <td>20</td>\n",
       "      <td>77</td>\n",
       "      <td>0</td>\n",
       "    </tr>\n",
       "    <tr>\n",
       "      <th>15</th>\n",
       "      <td>20</td>\n",
       "      <td>79</td>\n",
       "      <td>0</td>\n",
       "    </tr>\n",
       "    <tr>\n",
       "      <th>17</th>\n",
       "      <td>21</td>\n",
       "      <td>66</td>\n",
       "      <td>0</td>\n",
       "    </tr>\n",
       "    <tr>\n",
       "      <th>19</th>\n",
       "      <td>23</td>\n",
       "      <td>98</td>\n",
       "      <td>0</td>\n",
       "    </tr>\n",
       "    <tr>\n",
       "      <th>21</th>\n",
       "      <td>24</td>\n",
       "      <td>73</td>\n",
       "      <td>0</td>\n",
       "    </tr>\n",
       "    <tr>\n",
       "      <th>23</th>\n",
       "      <td>25</td>\n",
       "      <td>73</td>\n",
       "      <td>0</td>\n",
       "    </tr>\n",
       "    <tr>\n",
       "      <th>25</th>\n",
       "      <td>28</td>\n",
       "      <td>82</td>\n",
       "      <td>0</td>\n",
       "    </tr>\n",
       "    <tr>\n",
       "      <th>27</th>\n",
       "      <td>28</td>\n",
       "      <td>61</td>\n",
       "      <td>0</td>\n",
       "    </tr>\n",
       "    <tr>\n",
       "      <th>29</th>\n",
       "      <td>29</td>\n",
       "      <td>87</td>\n",
       "      <td>0</td>\n",
       "    </tr>\n",
       "    <tr>\n",
       "      <th>31</th>\n",
       "      <td>30</td>\n",
       "      <td>73</td>\n",
       "      <td>0</td>\n",
       "    </tr>\n",
       "    <tr>\n",
       "      <th>33</th>\n",
       "      <td>33</td>\n",
       "      <td>92</td>\n",
       "      <td>0</td>\n",
       "    </tr>\n",
       "    <tr>\n",
       "      <th>35</th>\n",
       "      <td>33</td>\n",
       "      <td>81</td>\n",
       "      <td>0</td>\n",
       "    </tr>\n",
       "    <tr>\n",
       "      <th>37</th>\n",
       "      <td>34</td>\n",
       "      <td>73</td>\n",
       "      <td>0</td>\n",
       "    </tr>\n",
       "    <tr>\n",
       "      <th>39</th>\n",
       "      <td>37</td>\n",
       "      <td>75</td>\n",
       "      <td>0</td>\n",
       "    </tr>\n",
       "    <tr>\n",
       "      <th>41</th>\n",
       "      <td>38</td>\n",
       "      <td>92</td>\n",
       "      <td>0</td>\n",
       "    </tr>\n",
       "    <tr>\n",
       "      <th>45</th>\n",
       "      <td>39</td>\n",
       "      <td>65</td>\n",
       "      <td>0</td>\n",
       "    </tr>\n",
       "  </tbody>\n",
       "</table>\n",
       "</div>"
      ],
      "text/plain": [
       "    Annual Income (k$)  Spending Score (1-100)  cluster number\n",
       "1                   15                      81               0\n",
       "3                   16                      77               0\n",
       "5                   17                      76               0\n",
       "7                   18                      94               0\n",
       "9                   19                      72               0\n",
       "11                  19                      99               0\n",
       "13                  20                      77               0\n",
       "15                  20                      79               0\n",
       "17                  21                      66               0\n",
       "19                  23                      98               0\n",
       "21                  24                      73               0\n",
       "23                  25                      73               0\n",
       "25                  28                      82               0\n",
       "27                  28                      61               0\n",
       "29                  29                      87               0\n",
       "31                  30                      73               0\n",
       "33                  33                      92               0\n",
       "35                  33                      81               0\n",
       "37                  34                      73               0\n",
       "39                  37                      75               0\n",
       "41                  38                      92               0\n",
       "45                  39                      65               0"
      ]
     },
     "execution_count": 17,
     "metadata": {},
     "output_type": "execute_result"
    }
   ],
   "source": [
    "x[x['cluster number'] == 0]"
   ]
  },
  {
   "cell_type": "code",
   "execution_count": 18,
   "id": "f40dd00e",
   "metadata": {
    "execution": {
     "iopub.execute_input": "2022-10-18T14:45:28.811740Z",
     "iopub.status.busy": "2022-10-18T14:45:28.811226Z",
     "iopub.status.idle": "2022-10-18T14:45:28.826286Z",
     "shell.execute_reply": "2022-10-18T14:45:28.824766Z"
    },
    "papermill": {
     "duration": 0.029925,
     "end_time": "2022-10-18T14:45:28.828635",
     "exception": false,
     "start_time": "2022-10-18T14:45:28.798710",
     "status": "completed"
    },
    "tags": []
   },
   "outputs": [
    {
     "data": {
      "text/html": [
       "<div>\n",
       "<style scoped>\n",
       "    .dataframe tbody tr th:only-of-type {\n",
       "        vertical-align: middle;\n",
       "    }\n",
       "\n",
       "    .dataframe tbody tr th {\n",
       "        vertical-align: top;\n",
       "    }\n",
       "\n",
       "    .dataframe thead th {\n",
       "        text-align: right;\n",
       "    }\n",
       "</style>\n",
       "<table border=\"1\" class=\"dataframe\">\n",
       "  <thead>\n",
       "    <tr style=\"text-align: right;\">\n",
       "      <th></th>\n",
       "      <th>Annual Income (k$)</th>\n",
       "      <th>Spending Score (1-100)</th>\n",
       "      <th>cluster number</th>\n",
       "    </tr>\n",
       "  </thead>\n",
       "  <tbody>\n",
       "    <tr>\n",
       "      <th>124</th>\n",
       "      <td>70</td>\n",
       "      <td>29</td>\n",
       "      <td>2</td>\n",
       "    </tr>\n",
       "    <tr>\n",
       "      <th>128</th>\n",
       "      <td>71</td>\n",
       "      <td>11</td>\n",
       "      <td>2</td>\n",
       "    </tr>\n",
       "    <tr>\n",
       "      <th>130</th>\n",
       "      <td>71</td>\n",
       "      <td>9</td>\n",
       "      <td>2</td>\n",
       "    </tr>\n",
       "    <tr>\n",
       "      <th>134</th>\n",
       "      <td>73</td>\n",
       "      <td>5</td>\n",
       "      <td>2</td>\n",
       "    </tr>\n",
       "    <tr>\n",
       "      <th>136</th>\n",
       "      <td>73</td>\n",
       "      <td>7</td>\n",
       "      <td>2</td>\n",
       "    </tr>\n",
       "    <tr>\n",
       "      <th>138</th>\n",
       "      <td>74</td>\n",
       "      <td>10</td>\n",
       "      <td>2</td>\n",
       "    </tr>\n",
       "    <tr>\n",
       "      <th>140</th>\n",
       "      <td>75</td>\n",
       "      <td>5</td>\n",
       "      <td>2</td>\n",
       "    </tr>\n",
       "    <tr>\n",
       "      <th>144</th>\n",
       "      <td>77</td>\n",
       "      <td>12</td>\n",
       "      <td>2</td>\n",
       "    </tr>\n",
       "    <tr>\n",
       "      <th>146</th>\n",
       "      <td>77</td>\n",
       "      <td>36</td>\n",
       "      <td>2</td>\n",
       "    </tr>\n",
       "    <tr>\n",
       "      <th>148</th>\n",
       "      <td>78</td>\n",
       "      <td>22</td>\n",
       "      <td>2</td>\n",
       "    </tr>\n",
       "    <tr>\n",
       "      <th>150</th>\n",
       "      <td>78</td>\n",
       "      <td>17</td>\n",
       "      <td>2</td>\n",
       "    </tr>\n",
       "    <tr>\n",
       "      <th>152</th>\n",
       "      <td>78</td>\n",
       "      <td>20</td>\n",
       "      <td>2</td>\n",
       "    </tr>\n",
       "    <tr>\n",
       "      <th>154</th>\n",
       "      <td>78</td>\n",
       "      <td>16</td>\n",
       "      <td>2</td>\n",
       "    </tr>\n",
       "    <tr>\n",
       "      <th>156</th>\n",
       "      <td>78</td>\n",
       "      <td>1</td>\n",
       "      <td>2</td>\n",
       "    </tr>\n",
       "    <tr>\n",
       "      <th>158</th>\n",
       "      <td>78</td>\n",
       "      <td>1</td>\n",
       "      <td>2</td>\n",
       "    </tr>\n",
       "    <tr>\n",
       "      <th>160</th>\n",
       "      <td>79</td>\n",
       "      <td>35</td>\n",
       "      <td>2</td>\n",
       "    </tr>\n",
       "    <tr>\n",
       "      <th>162</th>\n",
       "      <td>81</td>\n",
       "      <td>5</td>\n",
       "      <td>2</td>\n",
       "    </tr>\n",
       "    <tr>\n",
       "      <th>164</th>\n",
       "      <td>85</td>\n",
       "      <td>26</td>\n",
       "      <td>2</td>\n",
       "    </tr>\n",
       "    <tr>\n",
       "      <th>166</th>\n",
       "      <td>86</td>\n",
       "      <td>20</td>\n",
       "      <td>2</td>\n",
       "    </tr>\n",
       "    <tr>\n",
       "      <th>168</th>\n",
       "      <td>87</td>\n",
       "      <td>27</td>\n",
       "      <td>2</td>\n",
       "    </tr>\n",
       "    <tr>\n",
       "      <th>170</th>\n",
       "      <td>87</td>\n",
       "      <td>13</td>\n",
       "      <td>2</td>\n",
       "    </tr>\n",
       "    <tr>\n",
       "      <th>172</th>\n",
       "      <td>87</td>\n",
       "      <td>10</td>\n",
       "      <td>2</td>\n",
       "    </tr>\n",
       "    <tr>\n",
       "      <th>174</th>\n",
       "      <td>88</td>\n",
       "      <td>13</td>\n",
       "      <td>2</td>\n",
       "    </tr>\n",
       "    <tr>\n",
       "      <th>176</th>\n",
       "      <td>88</td>\n",
       "      <td>15</td>\n",
       "      <td>2</td>\n",
       "    </tr>\n",
       "    <tr>\n",
       "      <th>178</th>\n",
       "      <td>93</td>\n",
       "      <td>14</td>\n",
       "      <td>2</td>\n",
       "    </tr>\n",
       "    <tr>\n",
       "      <th>180</th>\n",
       "      <td>97</td>\n",
       "      <td>32</td>\n",
       "      <td>2</td>\n",
       "    </tr>\n",
       "    <tr>\n",
       "      <th>182</th>\n",
       "      <td>98</td>\n",
       "      <td>15</td>\n",
       "      <td>2</td>\n",
       "    </tr>\n",
       "    <tr>\n",
       "      <th>184</th>\n",
       "      <td>99</td>\n",
       "      <td>39</td>\n",
       "      <td>2</td>\n",
       "    </tr>\n",
       "    <tr>\n",
       "      <th>186</th>\n",
       "      <td>101</td>\n",
       "      <td>24</td>\n",
       "      <td>2</td>\n",
       "    </tr>\n",
       "    <tr>\n",
       "      <th>188</th>\n",
       "      <td>103</td>\n",
       "      <td>17</td>\n",
       "      <td>2</td>\n",
       "    </tr>\n",
       "    <tr>\n",
       "      <th>190</th>\n",
       "      <td>103</td>\n",
       "      <td>23</td>\n",
       "      <td>2</td>\n",
       "    </tr>\n",
       "    <tr>\n",
       "      <th>192</th>\n",
       "      <td>113</td>\n",
       "      <td>8</td>\n",
       "      <td>2</td>\n",
       "    </tr>\n",
       "    <tr>\n",
       "      <th>194</th>\n",
       "      <td>120</td>\n",
       "      <td>16</td>\n",
       "      <td>2</td>\n",
       "    </tr>\n",
       "    <tr>\n",
       "      <th>196</th>\n",
       "      <td>126</td>\n",
       "      <td>28</td>\n",
       "      <td>2</td>\n",
       "    </tr>\n",
       "    <tr>\n",
       "      <th>198</th>\n",
       "      <td>137</td>\n",
       "      <td>18</td>\n",
       "      <td>2</td>\n",
       "    </tr>\n",
       "  </tbody>\n",
       "</table>\n",
       "</div>"
      ],
      "text/plain": [
       "     Annual Income (k$)  Spending Score (1-100)  cluster number\n",
       "124                  70                      29               2\n",
       "128                  71                      11               2\n",
       "130                  71                       9               2\n",
       "134                  73                       5               2\n",
       "136                  73                       7               2\n",
       "138                  74                      10               2\n",
       "140                  75                       5               2\n",
       "144                  77                      12               2\n",
       "146                  77                      36               2\n",
       "148                  78                      22               2\n",
       "150                  78                      17               2\n",
       "152                  78                      20               2\n",
       "154                  78                      16               2\n",
       "156                  78                       1               2\n",
       "158                  78                       1               2\n",
       "160                  79                      35               2\n",
       "162                  81                       5               2\n",
       "164                  85                      26               2\n",
       "166                  86                      20               2\n",
       "168                  87                      27               2\n",
       "170                  87                      13               2\n",
       "172                  87                      10               2\n",
       "174                  88                      13               2\n",
       "176                  88                      15               2\n",
       "178                  93                      14               2\n",
       "180                  97                      32               2\n",
       "182                  98                      15               2\n",
       "184                  99                      39               2\n",
       "186                 101                      24               2\n",
       "188                 103                      17               2\n",
       "190                 103                      23               2\n",
       "192                 113                       8               2\n",
       "194                 120                      16               2\n",
       "196                 126                      28               2\n",
       "198                 137                      18               2"
      ]
     },
     "execution_count": 18,
     "metadata": {},
     "output_type": "execute_result"
    }
   ],
   "source": [
    "x[x['cluster number'] == 2]   "
   ]
  },
  {
   "cell_type": "code",
   "execution_count": 19,
   "id": "cb8836b3",
   "metadata": {
    "execution": {
     "iopub.execute_input": "2022-10-18T14:45:28.853111Z",
     "iopub.status.busy": "2022-10-18T14:45:28.852494Z",
     "iopub.status.idle": "2022-10-18T14:45:28.872444Z",
     "shell.execute_reply": "2022-10-18T14:45:28.871258Z"
    },
    "papermill": {
     "duration": 0.035859,
     "end_time": "2022-10-18T14:45:28.875734",
     "exception": false,
     "start_time": "2022-10-18T14:45:28.839875",
     "status": "completed"
    },
    "tags": []
   },
   "outputs": [
    {
     "name": "stderr",
     "output_type": "stream",
     "text": [
      "/opt/conda/lib/python3.7/site-packages/sklearn/base.py:451: UserWarning: X does not have valid feature names, but KMeans was fitted with feature names\n",
      "  \"X does not have valid feature names, but\"\n"
     ]
    },
    {
     "data": {
      "text/plain": [
       "array([1], dtype=int32)"
      ]
     },
     "execution_count": 19,
     "metadata": {},
     "output_type": "execute_result"
    }
   ],
   "source": [
    "kmean1.predict([[55,31]])"
   ]
  },
  {
   "cell_type": "code",
   "execution_count": 20,
   "id": "25564ea0",
   "metadata": {
    "execution": {
     "iopub.execute_input": "2022-10-18T14:45:28.901922Z",
     "iopub.status.busy": "2022-10-18T14:45:28.901365Z",
     "iopub.status.idle": "2022-10-18T14:45:28.928078Z",
     "shell.execute_reply": "2022-10-18T14:45:28.926647Z"
    },
    "papermill": {
     "duration": 0.042994,
     "end_time": "2022-10-18T14:45:28.931125",
     "exception": false,
     "start_time": "2022-10-18T14:45:28.888131",
     "status": "completed"
    },
    "tags": []
   },
   "outputs": [
    {
     "data": {
      "text/plain": [
       "MiniBatchKMeans(n_clusters=5)"
      ]
     },
     "execution_count": 20,
     "metadata": {},
     "output_type": "execute_result"
    }
   ],
   "source": [
    "from sklearn.cluster import MiniBatchKMeans\n",
    "minibatch_kmean = MiniBatchKMeans(n_clusters=5)\n",
    "minibatch_kmean.fit(x1)"
   ]
  },
  {
   "cell_type": "code",
   "execution_count": 21,
   "id": "45f47864",
   "metadata": {
    "execution": {
     "iopub.execute_input": "2022-10-18T14:45:28.959461Z",
     "iopub.status.busy": "2022-10-18T14:45:28.958614Z",
     "iopub.status.idle": "2022-10-18T14:45:28.975920Z",
     "shell.execute_reply": "2022-10-18T14:45:28.974029Z"
    },
    "papermill": {
     "duration": 0.034905,
     "end_time": "2022-10-18T14:45:28.979328",
     "exception": false,
     "start_time": "2022-10-18T14:45:28.944423",
     "status": "completed"
    },
    "tags": []
   },
   "outputs": [
    {
     "name": "stderr",
     "output_type": "stream",
     "text": [
      "/opt/conda/lib/python3.7/site-packages/sklearn/base.py:451: UserWarning: X does not have valid feature names, but MiniBatchKMeans was fitted with feature names\n",
      "  \"X does not have valid feature names, but\"\n"
     ]
    },
    {
     "data": {
      "text/plain": [
       "array([0], dtype=int32)"
      ]
     },
     "execution_count": 21,
     "metadata": {},
     "output_type": "execute_result"
    }
   ],
   "source": [
    "minibatch_kmean.predict([[55, 31]])"
   ]
  },
  {
   "cell_type": "code",
   "execution_count": 22,
   "id": "1f2653e0",
   "metadata": {
    "execution": {
     "iopub.execute_input": "2022-10-18T14:45:29.007296Z",
     "iopub.status.busy": "2022-10-18T14:45:29.006777Z",
     "iopub.status.idle": "2022-10-18T14:45:29.012899Z",
     "shell.execute_reply": "2022-10-18T14:45:29.011418Z"
    },
    "papermill": {
     "duration": 0.022454,
     "end_time": "2022-10-18T14:45:29.015688",
     "exception": false,
     "start_time": "2022-10-18T14:45:28.993234",
     "status": "completed"
    },
    "tags": []
   },
   "outputs": [],
   "source": [
    "from sklearn.cluster import DBSCAN"
   ]
  },
  {
   "cell_type": "code",
   "execution_count": 23,
   "id": "d8cf66ce",
   "metadata": {
    "execution": {
     "iopub.execute_input": "2022-10-18T14:45:29.041748Z",
     "iopub.status.busy": "2022-10-18T14:45:29.041195Z",
     "iopub.status.idle": "2022-10-18T14:45:29.055627Z",
     "shell.execute_reply": "2022-10-18T14:45:29.054149Z"
    },
    "papermill": {
     "duration": 0.031023,
     "end_time": "2022-10-18T14:45:29.058473",
     "exception": false,
     "start_time": "2022-10-18T14:45:29.027450",
     "status": "completed"
    },
    "tags": []
   },
   "outputs": [
    {
     "data": {
      "text/plain": [
       "DBSCAN(eps=1, min_samples=3)"
      ]
     },
     "execution_count": 23,
     "metadata": {},
     "output_type": "execute_result"
    }
   ],
   "source": [
    "dbscan = DBSCAN(eps=1, min_samples=3)\n",
    "dbscan.fit(x1)"
   ]
  },
  {
   "cell_type": "code",
   "execution_count": 24,
   "id": "83b010d1",
   "metadata": {
    "execution": {
     "iopub.execute_input": "2022-10-18T14:45:29.084769Z",
     "iopub.status.busy": "2022-10-18T14:45:29.084175Z",
     "iopub.status.idle": "2022-10-18T14:45:29.095274Z",
     "shell.execute_reply": "2022-10-18T14:45:29.093959Z"
    },
    "papermill": {
     "duration": 0.027445,
     "end_time": "2022-10-18T14:45:29.098056",
     "exception": false,
     "start_time": "2022-10-18T14:45:29.070611",
     "status": "completed"
    },
    "tags": []
   },
   "outputs": [
    {
     "data": {
      "text/plain": [
       "{-1, 0, 1, 2, 3, 4, 5}"
      ]
     },
     "execution_count": 24,
     "metadata": {},
     "output_type": "execute_result"
    }
   ],
   "source": [
    "set(dbscan.labels_)"
   ]
  },
  {
   "cell_type": "code",
   "execution_count": 25,
   "id": "14b36867",
   "metadata": {
    "execution": {
     "iopub.execute_input": "2022-10-18T14:45:29.125294Z",
     "iopub.status.busy": "2022-10-18T14:45:29.123870Z",
     "iopub.status.idle": "2022-10-18T14:45:29.133310Z",
     "shell.execute_reply": "2022-10-18T14:45:29.132014Z"
    },
    "papermill": {
     "duration": 0.026198,
     "end_time": "2022-10-18T14:45:29.136284",
     "exception": false,
     "start_time": "2022-10-18T14:45:29.110086",
     "status": "completed"
    },
    "tags": []
   },
   "outputs": [
    {
     "data": {
      "text/plain": [
       "7"
      ]
     },
     "execution_count": 25,
     "metadata": {},
     "output_type": "execute_result"
    }
   ],
   "source": [
    "len(set(dbscan.labels_))"
   ]
  },
  {
   "cell_type": "code",
   "execution_count": 26,
   "id": "a1ed52b5",
   "metadata": {
    "execution": {
     "iopub.execute_input": "2022-10-18T14:45:29.164641Z",
     "iopub.status.busy": "2022-10-18T14:45:29.164140Z",
     "iopub.status.idle": "2022-10-18T14:45:29.173251Z",
     "shell.execute_reply": "2022-10-18T14:45:29.171931Z"
    },
    "papermill": {
     "duration": 0.027261,
     "end_time": "2022-10-18T14:45:29.176245",
     "exception": false,
     "start_time": "2022-10-18T14:45:29.148984",
     "status": "completed"
    },
    "tags": []
   },
   "outputs": [],
   "source": [
    "x1['cluster number'] = dbscan.labels_"
   ]
  },
  {
   "cell_type": "code",
   "execution_count": 27,
   "id": "9a88f39d",
   "metadata": {
    "execution": {
     "iopub.execute_input": "2022-10-18T14:45:29.203331Z",
     "iopub.status.busy": "2022-10-18T14:45:29.202803Z",
     "iopub.status.idle": "2022-10-18T14:45:29.217224Z",
     "shell.execute_reply": "2022-10-18T14:45:29.215952Z"
    },
    "papermill": {
     "duration": 0.03142,
     "end_time": "2022-10-18T14:45:29.219949",
     "exception": false,
     "start_time": "2022-10-18T14:45:29.188529",
     "status": "completed"
    },
    "tags": []
   },
   "outputs": [
    {
     "data": {
      "text/html": [
       "<div>\n",
       "<style scoped>\n",
       "    .dataframe tbody tr th:only-of-type {\n",
       "        vertical-align: middle;\n",
       "    }\n",
       "\n",
       "    .dataframe tbody tr th {\n",
       "        vertical-align: top;\n",
       "    }\n",
       "\n",
       "    .dataframe thead th {\n",
       "        text-align: right;\n",
       "    }\n",
       "</style>\n",
       "<table border=\"1\" class=\"dataframe\">\n",
       "  <thead>\n",
       "    <tr style=\"text-align: right;\">\n",
       "      <th></th>\n",
       "      <th>Annual Income (k$)</th>\n",
       "      <th>Spending Score (1-100)</th>\n",
       "      <th>cluster number</th>\n",
       "    </tr>\n",
       "  </thead>\n",
       "  <tbody>\n",
       "    <tr>\n",
       "      <th>0</th>\n",
       "      <td>15</td>\n",
       "      <td>39</td>\n",
       "      <td>-1</td>\n",
       "    </tr>\n",
       "    <tr>\n",
       "      <th>1</th>\n",
       "      <td>15</td>\n",
       "      <td>81</td>\n",
       "      <td>-1</td>\n",
       "    </tr>\n",
       "    <tr>\n",
       "      <th>2</th>\n",
       "      <td>16</td>\n",
       "      <td>6</td>\n",
       "      <td>-1</td>\n",
       "    </tr>\n",
       "    <tr>\n",
       "      <th>3</th>\n",
       "      <td>16</td>\n",
       "      <td>77</td>\n",
       "      <td>-1</td>\n",
       "    </tr>\n",
       "    <tr>\n",
       "      <th>4</th>\n",
       "      <td>17</td>\n",
       "      <td>40</td>\n",
       "      <td>-1</td>\n",
       "    </tr>\n",
       "    <tr>\n",
       "      <th>...</th>\n",
       "      <td>...</td>\n",
       "      <td>...</td>\n",
       "      <td>...</td>\n",
       "    </tr>\n",
       "    <tr>\n",
       "      <th>195</th>\n",
       "      <td>120</td>\n",
       "      <td>79</td>\n",
       "      <td>-1</td>\n",
       "    </tr>\n",
       "    <tr>\n",
       "      <th>196</th>\n",
       "      <td>126</td>\n",
       "      <td>28</td>\n",
       "      <td>-1</td>\n",
       "    </tr>\n",
       "    <tr>\n",
       "      <th>197</th>\n",
       "      <td>126</td>\n",
       "      <td>74</td>\n",
       "      <td>-1</td>\n",
       "    </tr>\n",
       "    <tr>\n",
       "      <th>198</th>\n",
       "      <td>137</td>\n",
       "      <td>18</td>\n",
       "      <td>-1</td>\n",
       "    </tr>\n",
       "    <tr>\n",
       "      <th>199</th>\n",
       "      <td>137</td>\n",
       "      <td>83</td>\n",
       "      <td>-1</td>\n",
       "    </tr>\n",
       "  </tbody>\n",
       "</table>\n",
       "<p>200 rows × 3 columns</p>\n",
       "</div>"
      ],
      "text/plain": [
       "     Annual Income (k$)  Spending Score (1-100)  cluster number\n",
       "0                    15                      39              -1\n",
       "1                    15                      81              -1\n",
       "2                    16                       6              -1\n",
       "3                    16                      77              -1\n",
       "4                    17                      40              -1\n",
       "..                  ...                     ...             ...\n",
       "195                 120                      79              -1\n",
       "196                 126                      28              -1\n",
       "197                 126                      74              -1\n",
       "198                 137                      18              -1\n",
       "199                 137                      83              -1\n",
       "\n",
       "[200 rows x 3 columns]"
      ]
     },
     "execution_count": 27,
     "metadata": {},
     "output_type": "execute_result"
    }
   ],
   "source": [
    "x1"
   ]
  },
  {
   "cell_type": "code",
   "execution_count": 28,
   "id": "1b441447",
   "metadata": {
    "execution": {
     "iopub.execute_input": "2022-10-18T14:45:29.248073Z",
     "iopub.status.busy": "2022-10-18T14:45:29.247518Z",
     "iopub.status.idle": "2022-10-18T14:45:29.253830Z",
     "shell.execute_reply": "2022-10-18T14:45:29.252446Z"
    },
    "papermill": {
     "duration": 0.023664,
     "end_time": "2022-10-18T14:45:29.256645",
     "exception": false,
     "start_time": "2022-10-18T14:45:29.232981",
     "status": "completed"
    },
    "tags": []
   },
   "outputs": [],
   "source": [
    "from sklearn import metrics"
   ]
  },
  {
   "cell_type": "code",
   "execution_count": 29,
   "id": "b2d1833a",
   "metadata": {
    "execution": {
     "iopub.execute_input": "2022-10-18T14:45:29.283754Z",
     "iopub.status.busy": "2022-10-18T14:45:29.283221Z",
     "iopub.status.idle": "2022-10-18T14:45:29.300104Z",
     "shell.execute_reply": "2022-10-18T14:45:29.298499Z"
    },
    "papermill": {
     "duration": 0.03397,
     "end_time": "2022-10-18T14:45:29.303076",
     "exception": false,
     "start_time": "2022-10-18T14:45:29.269106",
     "status": "completed"
    },
    "tags": []
   },
   "outputs": [
    {
     "data": {
      "text/plain": [
       "-0.05702733098672127"
      ]
     },
     "execution_count": 29,
     "metadata": {},
     "output_type": "execute_result"
    }
   ],
   "source": [
    "metrics.adjusted_rand_score(x['cluster number'], dbscan.labels_)"
   ]
  },
  {
   "cell_type": "code",
   "execution_count": 30,
   "id": "d44fe4e2",
   "metadata": {
    "execution": {
     "iopub.execute_input": "2022-10-18T14:45:29.330586Z",
     "iopub.status.busy": "2022-10-18T14:45:29.329543Z",
     "iopub.status.idle": "2022-10-18T14:45:29.335437Z",
     "shell.execute_reply": "2022-10-18T14:45:29.334495Z"
    },
    "papermill": {
     "duration": 0.022438,
     "end_time": "2022-10-18T14:45:29.338037",
     "exception": false,
     "start_time": "2022-10-18T14:45:29.315599",
     "status": "completed"
    },
    "tags": []
   },
   "outputs": [],
   "source": [
    "true_label = x['cluster number']"
   ]
  },
  {
   "cell_type": "code",
   "execution_count": 31,
   "id": "783d06b8",
   "metadata": {
    "execution": {
     "iopub.execute_input": "2022-10-18T14:45:29.365871Z",
     "iopub.status.busy": "2022-10-18T14:45:29.364485Z",
     "iopub.status.idle": "2022-10-18T14:45:29.370353Z",
     "shell.execute_reply": "2022-10-18T14:45:29.369399Z"
    },
    "papermill": {
     "duration": 0.022375,
     "end_time": "2022-10-18T14:45:29.372918",
     "exception": false,
     "start_time": "2022-10-18T14:45:29.350543",
     "status": "completed"
    },
    "tags": []
   },
   "outputs": [],
   "source": [
    "predicted_label = dbscan.labels_"
   ]
  },
  {
   "cell_type": "code",
   "execution_count": 32,
   "id": "1190dce8",
   "metadata": {
    "execution": {
     "iopub.execute_input": "2022-10-18T14:45:29.400511Z",
     "iopub.status.busy": "2022-10-18T14:45:29.399267Z",
     "iopub.status.idle": "2022-10-18T14:45:29.411093Z",
     "shell.execute_reply": "2022-10-18T14:45:29.409560Z"
    },
    "papermill": {
     "duration": 0.028691,
     "end_time": "2022-10-18T14:45:29.414035",
     "exception": false,
     "start_time": "2022-10-18T14:45:29.385344",
     "status": "completed"
    },
    "tags": []
   },
   "outputs": [
    {
     "data": {
      "text/plain": [
       "0.005291005291005291"
      ]
     },
     "execution_count": 32,
     "metadata": {},
     "output_type": "execute_result"
    }
   ],
   "source": [
    "metrics.jaccard_score(true_label, predicted_label, average='macro')"
   ]
  },
  {
   "cell_type": "code",
   "execution_count": null,
   "id": "5ae5116a",
   "metadata": {
    "papermill": {
     "duration": 0.012407,
     "end_time": "2022-10-18T14:45:29.439247",
     "exception": false,
     "start_time": "2022-10-18T14:45:29.426840",
     "status": "completed"
    },
    "tags": []
   },
   "outputs": [],
   "source": []
  }
 ],
 "metadata": {
  "kernelspec": {
   "display_name": "Python 3.10.7 64-bit",
   "language": "python",
   "name": "python3"
  },
  "language_info": {
   "codemirror_mode": {
    "name": "ipython",
    "version": 3
   },
   "file_extension": ".py",
   "mimetype": "text/x-python",
   "name": "python",
   "nbconvert_exporter": "python",
   "pygments_lexer": "ipython3",
   "version": "3.10.7"
  },
  "papermill": {
   "default_parameters": {},
   "duration": 16.660027,
   "end_time": "2022-10-18T14:45:30.578065",
   "environment_variables": {},
   "exception": null,
   "input_path": "__notebook__.ipynb",
   "output_path": "__notebook__.ipynb",
   "parameters": {},
   "start_time": "2022-10-18T14:45:13.918038",
   "version": "2.3.4"
  },
  "vscode": {
   "interpreter": {
    "hash": "ecd724d921734a527ebe3e8b64dff4f67e20479586a2e56b4cd0ddded5b64780"
   }
  }
 },
 "nbformat": 4,
 "nbformat_minor": 5
}
